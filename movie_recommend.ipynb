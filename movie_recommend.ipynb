{
 "cells": [
  {
   "cell_type": "markdown",
   "metadata": {},
   "source": [
    "### 1. Dataset"
   ]
  },
  {
   "cell_type": "code",
   "execution_count": 1,
   "metadata": {
    "collapsed": true
   },
   "outputs": [],
   "source": [
    "import pandas as pd\n",
    "import numpy as np\n",
    "from scipy import spatial"
   ]
  },
  {
   "cell_type": "code",
   "execution_count": 2,
   "metadata": {},
   "outputs": [
    {
     "data": {
      "text/html": [
       "<div>\n",
       "<style>\n",
       "    .dataframe thead tr:only-child th {\n",
       "        text-align: right;\n",
       "    }\n",
       "\n",
       "    .dataframe thead th {\n",
       "        text-align: left;\n",
       "    }\n",
       "\n",
       "    .dataframe tbody tr th {\n",
       "        vertical-align: top;\n",
       "    }\n",
       "</style>\n",
       "<table border=\"1\" class=\"dataframe\">\n",
       "  <thead>\n",
       "    <tr style=\"text-align: right;\">\n",
       "      <th></th>\n",
       "      <th>userId</th>\n",
       "      <th>movieId</th>\n",
       "      <th>rating</th>\n",
       "    </tr>\n",
       "  </thead>\n",
       "  <tbody>\n",
       "    <tr>\n",
       "      <th>100002</th>\n",
       "      <td>671</td>\n",
       "      <td>6385</td>\n",
       "      <td>2.5</td>\n",
       "    </tr>\n",
       "    <tr>\n",
       "      <th>100003</th>\n",
       "      <td>671</td>\n",
       "      <td>6565</td>\n",
       "      <td>3.5</td>\n",
       "    </tr>\n",
       "  </tbody>\n",
       "</table>\n",
       "</div>"
      ],
      "text/plain": [
       "        userId  movieId  rating\n",
       "100002     671     6385     2.5\n",
       "100003     671     6565     3.5"
      ]
     },
     "execution_count": 2,
     "metadata": {},
     "output_type": "execute_result"
    }
   ],
   "source": [
    "rating_df = pd.read_csv(\"ratings_small.csv\")\n",
    "rating_df.drop(\"timestamp\", axis=1, inplace=True)\n",
    "rating_df.tail(2)"
   ]
  },
  {
   "cell_type": "markdown",
   "metadata": {},
   "source": [
    "##### 2. Check Dataset"
   ]
  },
  {
   "cell_type": "code",
   "execution_count": 3,
   "metadata": {},
   "outputs": [
    {
     "data": {
      "text/plain": [
       "671"
      ]
     },
     "execution_count": 3,
     "metadata": {},
     "output_type": "execute_result"
    }
   ],
   "source": [
    "unique_user = rating_df[\"userId\"].unique()\n",
    "len(unique_user)"
   ]
  },
  {
   "cell_type": "code",
   "execution_count": 4,
   "metadata": {},
   "outputs": [
    {
     "data": {
      "text/plain": [
       "9066"
      ]
     },
     "execution_count": 4,
     "metadata": {},
     "output_type": "execute_result"
    }
   ],
   "source": [
    "unique_movie = rating_df[\"movieId\"].unique()\n",
    "len(unique_movie)"
   ]
  },
  {
   "cell_type": "code",
   "execution_count": 5,
   "metadata": {},
   "outputs": [
    {
     "data": {
      "text/html": [
       "<div>\n",
       "<style>\n",
       "    .dataframe thead tr:only-child th {\n",
       "        text-align: right;\n",
       "    }\n",
       "\n",
       "    .dataframe thead th {\n",
       "        text-align: left;\n",
       "    }\n",
       "\n",
       "    .dataframe tbody tr th {\n",
       "        vertical-align: top;\n",
       "    }\n",
       "</style>\n",
       "<table border=\"1\" class=\"dataframe\">\n",
       "  <thead>\n",
       "    <tr style=\"text-align: right;\">\n",
       "      <th></th>\n",
       "      <th>rating</th>\n",
       "      <th>rating_counts</th>\n",
       "    </tr>\n",
       "  </thead>\n",
       "  <tbody>\n",
       "    <tr>\n",
       "      <th>0</th>\n",
       "      <td>0.5</td>\n",
       "      <td>1101</td>\n",
       "    </tr>\n",
       "    <tr>\n",
       "      <th>1</th>\n",
       "      <td>1.0</td>\n",
       "      <td>3326</td>\n",
       "    </tr>\n",
       "    <tr>\n",
       "      <th>2</th>\n",
       "      <td>1.5</td>\n",
       "      <td>1687</td>\n",
       "    </tr>\n",
       "    <tr>\n",
       "      <th>3</th>\n",
       "      <td>2.0</td>\n",
       "      <td>7271</td>\n",
       "    </tr>\n",
       "    <tr>\n",
       "      <th>4</th>\n",
       "      <td>2.5</td>\n",
       "      <td>4449</td>\n",
       "    </tr>\n",
       "    <tr>\n",
       "      <th>5</th>\n",
       "      <td>3.0</td>\n",
       "      <td>20064</td>\n",
       "    </tr>\n",
       "    <tr>\n",
       "      <th>6</th>\n",
       "      <td>3.5</td>\n",
       "      <td>10538</td>\n",
       "    </tr>\n",
       "    <tr>\n",
       "      <th>7</th>\n",
       "      <td>4.0</td>\n",
       "      <td>28750</td>\n",
       "    </tr>\n",
       "    <tr>\n",
       "      <th>8</th>\n",
       "      <td>4.5</td>\n",
       "      <td>7723</td>\n",
       "    </tr>\n",
       "    <tr>\n",
       "      <th>9</th>\n",
       "      <td>5.0</td>\n",
       "      <td>15095</td>\n",
       "    </tr>\n",
       "  </tbody>\n",
       "</table>\n",
       "</div>"
      ],
      "text/plain": [
       "   rating  rating_counts\n",
       "0     0.5           1101\n",
       "1     1.0           3326\n",
       "2     1.5           1687\n",
       "3     2.0           7271\n",
       "4     2.5           4449\n",
       "5     3.0          20064\n",
       "6     3.5          10538\n",
       "7     4.0          28750\n",
       "8     4.5           7723\n",
       "9     5.0          15095"
      ]
     },
     "execution_count": 5,
     "metadata": {},
     "output_type": "execute_result"
    }
   ],
   "source": [
    "# rating 분포\n",
    "rating_df.groupby(\"rating\").size().reset_index(name=\"rating_counts\")"
   ]
  },
  {
   "cell_type": "code",
   "execution_count": 6,
   "metadata": {},
   "outputs": [
    {
     "data": {
      "text/html": [
       "<div>\n",
       "<style>\n",
       "    .dataframe thead tr:only-child th {\n",
       "        text-align: right;\n",
       "    }\n",
       "\n",
       "    .dataframe thead th {\n",
       "        text-align: left;\n",
       "    }\n",
       "\n",
       "    .dataframe tbody tr th {\n",
       "        vertical-align: top;\n",
       "    }\n",
       "</style>\n",
       "<table border=\"1\" class=\"dataframe\">\n",
       "  <thead>\n",
       "    <tr style=\"text-align: right;\">\n",
       "      <th></th>\n",
       "      <th>userId</th>\n",
       "      <th>user_rating_count</th>\n",
       "    </tr>\n",
       "  </thead>\n",
       "  <tbody>\n",
       "    <tr>\n",
       "      <th>546</th>\n",
       "      <td>547</td>\n",
       "      <td>2391</td>\n",
       "    </tr>\n",
       "    <tr>\n",
       "      <th>563</th>\n",
       "      <td>564</td>\n",
       "      <td>1868</td>\n",
       "    </tr>\n",
       "    <tr>\n",
       "      <th>623</th>\n",
       "      <td>624</td>\n",
       "      <td>1735</td>\n",
       "    </tr>\n",
       "    <tr>\n",
       "      <th>14</th>\n",
       "      <td>15</td>\n",
       "      <td>1700</td>\n",
       "    </tr>\n",
       "    <tr>\n",
       "      <th>72</th>\n",
       "      <td>73</td>\n",
       "      <td>1610</td>\n",
       "    </tr>\n",
       "  </tbody>\n",
       "</table>\n",
       "</div>"
      ],
      "text/plain": [
       "     userId  user_rating_count\n",
       "546     547               2391\n",
       "563     564               1868\n",
       "623     624               1735\n",
       "14       15               1700\n",
       "72       73               1610"
      ]
     },
     "execution_count": 6,
     "metadata": {},
     "output_type": "execute_result"
    }
   ],
   "source": [
    "# user 분포\n",
    "user_counts_df = rating_df.groupby(\"userId\").size().reset_index(name=\"user_rating_count\")\n",
    "user_counts_df = user_counts_df.sort_values(\"user_rating_count\", ascending=False)\n",
    "user_counts_df.head()"
   ]
  },
  {
   "cell_type": "code",
   "execution_count": 7,
   "metadata": {},
   "outputs": [
    {
     "data": {
      "text/html": [
       "<div>\n",
       "<style>\n",
       "    .dataframe thead tr:only-child th {\n",
       "        text-align: right;\n",
       "    }\n",
       "\n",
       "    .dataframe thead th {\n",
       "        text-align: left;\n",
       "    }\n",
       "\n",
       "    .dataframe tbody tr th {\n",
       "        vertical-align: top;\n",
       "    }\n",
       "</style>\n",
       "<table border=\"1\" class=\"dataframe\">\n",
       "  <thead>\n",
       "    <tr style=\"text-align: right;\">\n",
       "      <th></th>\n",
       "      <th>movieId</th>\n",
       "      <th>movie_rating_count</th>\n",
       "    </tr>\n",
       "  </thead>\n",
       "  <tbody>\n",
       "    <tr>\n",
       "      <th>321</th>\n",
       "      <td>356</td>\n",
       "      <td>341</td>\n",
       "    </tr>\n",
       "    <tr>\n",
       "      <th>266</th>\n",
       "      <td>296</td>\n",
       "      <td>324</td>\n",
       "    </tr>\n",
       "    <tr>\n",
       "      <th>284</th>\n",
       "      <td>318</td>\n",
       "      <td>311</td>\n",
       "    </tr>\n",
       "    <tr>\n",
       "      <th>525</th>\n",
       "      <td>593</td>\n",
       "      <td>304</td>\n",
       "    </tr>\n",
       "    <tr>\n",
       "      <th>232</th>\n",
       "      <td>260</td>\n",
       "      <td>291</td>\n",
       "    </tr>\n",
       "  </tbody>\n",
       "</table>\n",
       "</div>"
      ],
      "text/plain": [
       "     movieId  movie_rating_count\n",
       "321      356                 341\n",
       "266      296                 324\n",
       "284      318                 311\n",
       "525      593                 304\n",
       "232      260                 291"
      ]
     },
     "execution_count": 7,
     "metadata": {},
     "output_type": "execute_result"
    }
   ],
   "source": [
    "# movie 분포\n",
    "movie_counts_df = rating_df.groupby(\"movieId\").size().reset_index(name=\"movie_rating_count\")\n",
    "movie_counts_df = movie_counts_df.sort_values(\"movie_rating_count\", ascending=False)\n",
    "movie_counts_df.head()"
   ]
  },
  {
   "cell_type": "markdown",
   "metadata": {},
   "source": [
    "### 3. Preprocessing"
   ]
  },
  {
   "cell_type": "code",
   "execution_count": 8,
   "metadata": {
    "collapsed": true
   },
   "outputs": [],
   "source": [
    "# user 최소 평가수, movie 최소 평가수\n",
    "user_limit, movie_limit = 365, 100"
   ]
  },
  {
   "cell_type": "code",
   "execution_count": 9,
   "metadata": {},
   "outputs": [
    {
     "data": {
      "text/plain": [
       "(59, [547, 564, 624, 15, 73])"
      ]
     },
     "execution_count": 9,
     "metadata": {},
     "output_type": "execute_result"
    }
   ],
   "source": [
    "filtered_userId = user_counts_df[user_counts_df[\"user_rating_count\"] > user_limit]\n",
    "filtered_userId = list(filtered_userId[\"userId\"])\n",
    "len(filtered_userId), filtered_userId[:5]"
   ]
  },
  {
   "cell_type": "code",
   "execution_count": 10,
   "metadata": {},
   "outputs": [
    {
     "data": {
      "text/plain": [
       "(149, [356, 296, 318, 593, 260])"
      ]
     },
     "execution_count": 10,
     "metadata": {},
     "output_type": "execute_result"
    }
   ],
   "source": [
    "filtered_movieId = movie_counts_df[movie_counts_df[\"movie_rating_count\"] > movie_limit]\n",
    "filtered_movieId = list(filtered_movieId[\"movieId\"])\n",
    "len(filtered_movieId), filtered_movieId[:5]"
   ]
  },
  {
   "cell_type": "code",
   "execution_count": 13,
   "metadata": {},
   "outputs": [
    {
     "data": {
      "text/plain": [
       "5570"
      ]
     },
     "execution_count": 13,
     "metadata": {},
     "output_type": "execute_result"
    }
   ],
   "source": [
    "# 10004 -> 5570\n",
    "filtered_df = rating_df[rating_df[\"userId\"].isin(filtered_userId)]\n",
    "len(filtered_df)\n",
    "\n",
    "filtered_df = filtered_df[filtered_df[\"movieId\"].isin(filtered_movieId)]\n",
    "len(filtered_df)"
   ]
  },
  {
   "cell_type": "markdown",
   "metadata": {},
   "source": [
    "### 4. pivot"
   ]
  },
  {
   "cell_type": "code",
   "execution_count": 14,
   "metadata": {},
   "outputs": [
    {
     "data": {
      "text/html": [
       "<div>\n",
       "<style>\n",
       "    .dataframe thead tr:only-child th {\n",
       "        text-align: right;\n",
       "    }\n",
       "\n",
       "    .dataframe thead th {\n",
       "        text-align: left;\n",
       "    }\n",
       "\n",
       "    .dataframe tbody tr th {\n",
       "        vertical-align: top;\n",
       "    }\n",
       "</style>\n",
       "<table border=\"1\" class=\"dataframe\">\n",
       "  <thead>\n",
       "    <tr style=\"text-align: right;\">\n",
       "      <th>movieId</th>\n",
       "      <th>1</th>\n",
       "      <th>2</th>\n",
       "      <th>6</th>\n",
       "      <th>10</th>\n",
       "      <th>25</th>\n",
       "      <th>32</th>\n",
       "      <th>34</th>\n",
       "      <th>36</th>\n",
       "      <th>39</th>\n",
       "      <th>47</th>\n",
       "      <th>...</th>\n",
       "      <th>6377</th>\n",
       "      <th>6539</th>\n",
       "      <th>6874</th>\n",
       "      <th>7153</th>\n",
       "      <th>7361</th>\n",
       "      <th>7438</th>\n",
       "      <th>8961</th>\n",
       "      <th>33794</th>\n",
       "      <th>58559</th>\n",
       "      <th>79132</th>\n",
       "    </tr>\n",
       "    <tr>\n",
       "      <th>userId</th>\n",
       "      <th></th>\n",
       "      <th></th>\n",
       "      <th></th>\n",
       "      <th></th>\n",
       "      <th></th>\n",
       "      <th></th>\n",
       "      <th></th>\n",
       "      <th></th>\n",
       "      <th></th>\n",
       "      <th></th>\n",
       "      <th></th>\n",
       "      <th></th>\n",
       "      <th></th>\n",
       "      <th></th>\n",
       "      <th></th>\n",
       "      <th></th>\n",
       "      <th></th>\n",
       "      <th></th>\n",
       "      <th></th>\n",
       "      <th></th>\n",
       "      <th></th>\n",
       "    </tr>\n",
       "  </thead>\n",
       "  <tbody>\n",
       "    <tr>\n",
       "      <th>615</th>\n",
       "      <td>4.0</td>\n",
       "      <td>0.0</td>\n",
       "      <td>3.5</td>\n",
       "      <td>0.0</td>\n",
       "      <td>0.0</td>\n",
       "      <td>3.0</td>\n",
       "      <td>0.0</td>\n",
       "      <td>0.0</td>\n",
       "      <td>0.0</td>\n",
       "      <td>4.5</td>\n",
       "      <td>...</td>\n",
       "      <td>4.5</td>\n",
       "      <td>3.5</td>\n",
       "      <td>4.5</td>\n",
       "      <td>4.0</td>\n",
       "      <td>4.0</td>\n",
       "      <td>4.0</td>\n",
       "      <td>4.0</td>\n",
       "      <td>4.0</td>\n",
       "      <td>4.5</td>\n",
       "      <td>4.0</td>\n",
       "    </tr>\n",
       "    <tr>\n",
       "      <th>624</th>\n",
       "      <td>5.0</td>\n",
       "      <td>3.0</td>\n",
       "      <td>0.0</td>\n",
       "      <td>4.0</td>\n",
       "      <td>0.0</td>\n",
       "      <td>2.0</td>\n",
       "      <td>0.0</td>\n",
       "      <td>0.0</td>\n",
       "      <td>0.0</td>\n",
       "      <td>4.0</td>\n",
       "      <td>...</td>\n",
       "      <td>3.5</td>\n",
       "      <td>3.5</td>\n",
       "      <td>4.0</td>\n",
       "      <td>4.5</td>\n",
       "      <td>0.0</td>\n",
       "      <td>3.5</td>\n",
       "      <td>4.5</td>\n",
       "      <td>3.5</td>\n",
       "      <td>3.5</td>\n",
       "      <td>4.0</td>\n",
       "    </tr>\n",
       "    <tr>\n",
       "      <th>654</th>\n",
       "      <td>5.0</td>\n",
       "      <td>3.0</td>\n",
       "      <td>0.0</td>\n",
       "      <td>4.0</td>\n",
       "      <td>0.0</td>\n",
       "      <td>5.0</td>\n",
       "      <td>4.5</td>\n",
       "      <td>4.5</td>\n",
       "      <td>0.0</td>\n",
       "      <td>4.5</td>\n",
       "      <td>...</td>\n",
       "      <td>5.0</td>\n",
       "      <td>4.5</td>\n",
       "      <td>4.5</td>\n",
       "      <td>5.0</td>\n",
       "      <td>4.0</td>\n",
       "      <td>4.0</td>\n",
       "      <td>5.0</td>\n",
       "      <td>4.5</td>\n",
       "      <td>0.0</td>\n",
       "      <td>0.0</td>\n",
       "    </tr>\n",
       "    <tr>\n",
       "      <th>664</th>\n",
       "      <td>3.5</td>\n",
       "      <td>0.0</td>\n",
       "      <td>4.0</td>\n",
       "      <td>0.0</td>\n",
       "      <td>0.0</td>\n",
       "      <td>5.0</td>\n",
       "      <td>0.0</td>\n",
       "      <td>0.0</td>\n",
       "      <td>0.0</td>\n",
       "      <td>4.5</td>\n",
       "      <td>...</td>\n",
       "      <td>0.0</td>\n",
       "      <td>4.0</td>\n",
       "      <td>4.0</td>\n",
       "      <td>4.0</td>\n",
       "      <td>4.0</td>\n",
       "      <td>4.0</td>\n",
       "      <td>4.0</td>\n",
       "      <td>4.0</td>\n",
       "      <td>4.5</td>\n",
       "      <td>5.0</td>\n",
       "    </tr>\n",
       "    <tr>\n",
       "      <th>665</th>\n",
       "      <td>0.0</td>\n",
       "      <td>3.0</td>\n",
       "      <td>0.0</td>\n",
       "      <td>0.0</td>\n",
       "      <td>0.0</td>\n",
       "      <td>4.0</td>\n",
       "      <td>2.0</td>\n",
       "      <td>0.0</td>\n",
       "      <td>2.0</td>\n",
       "      <td>0.0</td>\n",
       "      <td>...</td>\n",
       "      <td>0.0</td>\n",
       "      <td>0.0</td>\n",
       "      <td>0.0</td>\n",
       "      <td>0.0</td>\n",
       "      <td>0.0</td>\n",
       "      <td>0.0</td>\n",
       "      <td>0.0</td>\n",
       "      <td>0.0</td>\n",
       "      <td>0.0</td>\n",
       "      <td>0.0</td>\n",
       "    </tr>\n",
       "  </tbody>\n",
       "</table>\n",
       "<p>5 rows × 149 columns</p>\n",
       "</div>"
      ],
      "text/plain": [
       "movieId  1      2      6      10     25     32     34     36     39     47     \\\n",
       "userId                                                                          \n",
       "615        4.0    0.0    3.5    0.0    0.0    3.0    0.0    0.0    0.0    4.5   \n",
       "624        5.0    3.0    0.0    4.0    0.0    2.0    0.0    0.0    0.0    4.0   \n",
       "654        5.0    3.0    0.0    4.0    0.0    5.0    4.5    4.5    0.0    4.5   \n",
       "664        3.5    0.0    4.0    0.0    0.0    5.0    0.0    0.0    0.0    4.5   \n",
       "665        0.0    3.0    0.0    0.0    0.0    4.0    2.0    0.0    2.0    0.0   \n",
       "\n",
       "movieId  ...    6377   6539   6874   7153   7361   7438   8961   33794  58559  \\\n",
       "userId   ...                                                                    \n",
       "615      ...      4.5    3.5    4.5    4.0    4.0    4.0    4.0    4.0    4.5   \n",
       "624      ...      3.5    3.5    4.0    4.5    0.0    3.5    4.5    3.5    3.5   \n",
       "654      ...      5.0    4.5    4.5    5.0    4.0    4.0    5.0    4.5    0.0   \n",
       "664      ...      0.0    4.0    4.0    4.0    4.0    4.0    4.0    4.0    4.5   \n",
       "665      ...      0.0    0.0    0.0    0.0    0.0    0.0    0.0    0.0    0.0   \n",
       "\n",
       "movieId  79132  \n",
       "userId          \n",
       "615        4.0  \n",
       "624        4.0  \n",
       "654        0.0  \n",
       "664        5.0  \n",
       "665        0.0  \n",
       "\n",
       "[5 rows x 149 columns]"
      ]
     },
     "execution_count": 14,
     "metadata": {},
     "output_type": "execute_result"
    }
   ],
   "source": [
    "user_df = filtered_df.pivot_table(values=\"rating\",\\\n",
    "                                  index=\"userId\", columns=\"movieId\",\\\n",
    "                                  aggfunc=np.average, fill_value=0,\\\n",
    "                                  dropna=False\n",
    "                                 )\n",
    "user_df.tail()"
   ]
  },
  {
   "cell_type": "markdown",
   "metadata": {},
   "source": [
    "##### 6. function "
   ]
  },
  {
   "cell_type": "code",
   "execution_count": 19,
   "metadata": {
    "collapsed": true
   },
   "outputs": [],
   "source": [
    "def cosine_similarity(vec1, vec2):\n",
    "    idx = vec1.nonzero()[0]\n",
    "    if len(idx) == 0:\n",
    "        return -1\n",
    "    vec1, vec2 = np.array(vec1)[idx], np.array(vec2)[idx]\n",
    "    \n",
    "    idx = vec2.nonzero()[0]\n",
    "    if len(idx) == 0:\n",
    "        return -1\n",
    "    vec1, vec2 = np.array(vec1)[idx], np.array(vec2)[idx]\n",
    "\n",
    "    \n",
    "    return 1-spatial.distance.cosine(vec1, vec2)"
   ]
  },
  {
   "cell_type": "code",
   "execution_count": 21,
   "metadata": {},
   "outputs": [
    {
     "data": {
      "text/plain": [
       "0.83205029433784372"
      ]
     },
     "execution_count": 21,
     "metadata": {},
     "output_type": "execute_result"
    }
   ],
   "source": [
    "# test code - cosine_similarity\n",
    "vec1 = np.array([1, 0, 3, 0, 5])\n",
    "vec2 = np.array([5, 3, 0, 1, 5])\n",
    "cosine_similarity(vec1, vec2)"
   ]
  },
  {
   "cell_type": "code",
   "execution_count": 22,
   "metadata": {
    "collapsed": true
   },
   "outputs": [],
   "source": [
    "def similarity_matrix(user_df, similarity_func):\n",
    "    users = user_df.index\n",
    "    df = user_df.T\n",
    "    \n",
    "    matrix=[]\n",
    "    for idx_1, value_1 in df.items():\n",
    "        row = []\n",
    "        for idx_2, value_2 in df.items():\n",
    "            row.append(similarity_func(value_1, value_2))\n",
    "        matrix.append(row)\n",
    "    \n",
    "    return pd.DataFrame(matrix, index = users, columns = users)"
   ]
  },
  {
   "cell_type": "code",
   "execution_count": 24,
   "metadata": {},
   "outputs": [],
   "source": [
    "# test code \n",
    "sm_df = similarity_matrix(user_df, cosine_similarity)"
   ]
  },
  {
   "cell_type": "code",
   "execution_count": 25,
   "metadata": {
    "collapsed": true
   },
   "outputs": [],
   "source": [
    "def mean_score(user_df, sm_df, target, closer_count):\n",
    "    sms_df = sm_df.drop(target)\n",
    "    sms_df = sms_df.sort_values(target, ascending = False)\n",
    "    sms_df = sms_df[target][:closer_count]\n",
    "    \n",
    "    smsw_df = user_df.loc[sms_df.index]\n",
    "    \n",
    "    ms_df = pd.DataFrame(columns = user_df.columns)\n",
    "    ms_df.loc[\"user\"] = user_df.loc[target]\n",
    "    ms_df.loc[\"mean\"] = smsw_df.mean()\n",
    "    \n",
    "    return ms_df\n",
    "    "
   ]
  },
  {
   "cell_type": "code",
   "execution_count": 29,
   "metadata": {},
   "outputs": [
    {
     "data": {
      "text/html": [
       "<div>\n",
       "<style>\n",
       "    .dataframe thead tr:only-child th {\n",
       "        text-align: right;\n",
       "    }\n",
       "\n",
       "    .dataframe thead th {\n",
       "        text-align: left;\n",
       "    }\n",
       "\n",
       "    .dataframe tbody tr th {\n",
       "        vertical-align: top;\n",
       "    }\n",
       "</style>\n",
       "<table border=\"1\" class=\"dataframe\">\n",
       "  <thead>\n",
       "    <tr style=\"text-align: right;\">\n",
       "      <th>movieId</th>\n",
       "      <th>1</th>\n",
       "      <th>2</th>\n",
       "      <th>6</th>\n",
       "      <th>10</th>\n",
       "      <th>25</th>\n",
       "      <th>32</th>\n",
       "      <th>34</th>\n",
       "      <th>36</th>\n",
       "      <th>39</th>\n",
       "      <th>47</th>\n",
       "      <th>...</th>\n",
       "      <th>6377</th>\n",
       "      <th>6539</th>\n",
       "      <th>6874</th>\n",
       "      <th>7153</th>\n",
       "      <th>7361</th>\n",
       "      <th>7438</th>\n",
       "      <th>8961</th>\n",
       "      <th>33794</th>\n",
       "      <th>58559</th>\n",
       "      <th>79132</th>\n",
       "    </tr>\n",
       "  </thead>\n",
       "  <tbody>\n",
       "    <tr>\n",
       "      <th>user</th>\n",
       "      <td>2.0</td>\n",
       "      <td>2.0</td>\n",
       "      <td>4.00</td>\n",
       "      <td>3.00</td>\n",
       "      <td>3.0</td>\n",
       "      <td>4.00</td>\n",
       "      <td>3.00</td>\n",
       "      <td>1.0</td>\n",
       "      <td>2.5</td>\n",
       "      <td>5.00</td>\n",
       "      <td>...</td>\n",
       "      <td>1.0</td>\n",
       "      <td>3.50</td>\n",
       "      <td>1.00</td>\n",
       "      <td>1.50</td>\n",
       "      <td>5.00</td>\n",
       "      <td>0.50</td>\n",
       "      <td>2.0</td>\n",
       "      <td>4.50</td>\n",
       "      <td>4.50</td>\n",
       "      <td>5.0</td>\n",
       "    </tr>\n",
       "    <tr>\n",
       "      <th>mean</th>\n",
       "      <td>1.7</td>\n",
       "      <td>1.0</td>\n",
       "      <td>2.15</td>\n",
       "      <td>0.75</td>\n",
       "      <td>3.2</td>\n",
       "      <td>2.35</td>\n",
       "      <td>2.35</td>\n",
       "      <td>2.3</td>\n",
       "      <td>1.4</td>\n",
       "      <td>4.35</td>\n",
       "      <td>...</td>\n",
       "      <td>0.0</td>\n",
       "      <td>0.75</td>\n",
       "      <td>1.15</td>\n",
       "      <td>1.15</td>\n",
       "      <td>1.25</td>\n",
       "      <td>0.95</td>\n",
       "      <td>0.0</td>\n",
       "      <td>0.85</td>\n",
       "      <td>0.85</td>\n",
       "      <td>0.4</td>\n",
       "    </tr>\n",
       "  </tbody>\n",
       "</table>\n",
       "<p>2 rows × 149 columns</p>\n",
       "</div>"
      ],
      "text/plain": [
       "movieId  1      2      6      10     25     32     34     36     39     47     \\\n",
       "user       2.0    2.0   4.00   3.00    3.0   4.00   3.00    1.0    2.5   5.00   \n",
       "mean       1.7    1.0   2.15   0.75    3.2   2.35   2.35    2.3    1.4   4.35   \n",
       "\n",
       "movieId  ...    6377   6539   6874   7153   7361   7438   8961   33794  58559  \\\n",
       "user     ...      1.0   3.50   1.00   1.50   5.00   0.50    2.0   4.50   4.50   \n",
       "mean     ...      0.0   0.75   1.15   1.15   1.25   0.95    0.0   0.85   0.85   \n",
       "\n",
       "movieId  79132  \n",
       "user       5.0  \n",
       "mean       0.4  \n",
       "\n",
       "[2 rows x 149 columns]"
      ]
     },
     "execution_count": 29,
     "metadata": {},
     "output_type": "execute_result"
    }
   ],
   "source": [
    "# test code - mean_score\n",
    "ms_df = mean_score(user_df, sm_df, 15, 10)\n",
    "ms_df"
   ]
  },
  {
   "cell_type": "code",
   "execution_count": 32,
   "metadata": {
    "collapsed": true
   },
   "outputs": [],
   "source": [
    "def recommend(ms_df) :\n",
    "    recommend_df = ms_df.T\n",
    "    recommend_df = recommend_df[recommend_df[\"user\"] == 0]\n",
    "    recommend_df = recommend_df.sort_values(\"mean\", ascending = False)\n",
    "    \n",
    "    return recommend_df, list(recommend_df.index)"
   ]
  },
  {
   "cell_type": "code",
   "execution_count": 38,
   "metadata": {},
   "outputs": [
    {
     "name": "stdout",
     "output_type": "stream",
     "text": [
      "recommended movies : [595]\n"
     ]
    }
   ],
   "source": [
    "recommend_df, recommend_list = recommend(ms_df)\n",
    "print(\"recommended movies : {}\".format(recommend_list))"
   ]
  },
  {
   "cell_type": "markdown",
   "metadata": {},
   "source": [
    "##### metric"
   ]
  },
  {
   "cell_type": "code",
   "execution_count": 46,
   "metadata": {
    "collapsed": true
   },
   "outputs": [],
   "source": [
    "def mae(value, pre):\n",
    "    idx = value.nonzero()[0]\n",
    "    if len(idx) == 0:\n",
    "        return -1\n",
    "    value = np.array(value)[idx]\n",
    "    pre = np.array(pre)[idx]\n",
    "    \n",
    "    idx = pre.nonzero()[0]\n",
    "    if len(idx) == 0:\n",
    "        return -1\n",
    "    value = np.array(value)[idx]\n",
    "    pre = np.array(pre)[idx]\n",
    "    \n",
    "    return sum(np.abs(value - pre)/len(idx))"
   ]
  },
  {
   "cell_type": "code",
   "execution_count": 47,
   "metadata": {},
   "outputs": [
    {
     "data": {
      "text/plain": [
       "1.3551724137931034"
      ]
     },
     "execution_count": 47,
     "metadata": {},
     "output_type": "execute_result"
    }
   ],
   "source": [
    "mae(ms_df.loc[\"user\"], ms_df.loc[\"mean\"])"
   ]
  },
  {
   "cell_type": "code",
   "execution_count": 48,
   "metadata": {
    "collapsed": true
   },
   "outputs": [],
   "source": [
    "def evaluate(user_df, sm_df, closer_count, algorithm):\n",
    "    users = user_df.index\n",
    "    evaluate_list = []\n",
    "    \n",
    "    for target in users:\n",
    "        pred_df = mean_score(user_df, sm_df, target, closer_count)\n",
    "        evaluate_list.append(algorithm(pred_df.loc[\"user\"], pred_df.loc[\"mean\"]))\n",
    "        \n",
    "    return np.average(evaluate_list)"
   ]
  },
  {
   "cell_type": "code",
   "execution_count": 49,
   "metadata": {},
   "outputs": [
    {
     "data": {
      "text/plain": [
       "1.4807110633380403"
      ]
     },
     "execution_count": 49,
     "metadata": {},
     "output_type": "execute_result"
    }
   ],
   "source": [
    "# test code - evaluate\n",
    "evaluate(user_df, sm_df, 10, mae)"
   ]
  },
  {
   "cell_type": "code",
   "execution_count": 50,
   "metadata": {},
   "outputs": [
    {
     "name": "stdout",
     "output_type": "stream",
     "text": [
      "2 1.30487123248\n",
      "3 1.48916180216\n",
      "4 1.55688220475\n",
      "5 1.54849659935\n",
      "6 1.53756469167\n",
      "7 1.53165024331\n",
      "8 1.51446414786\n",
      "9 1.49956952568\n",
      "10 1.48071106334\n"
     ]
    }
   ],
   "source": [
    "start, end = 2, 10\n",
    "\n",
    "for closer_count in range(start, end +1):\n",
    "    print(closer_count, evaluate(user_df, sm_df, closer_count, mae))"
   ]
  }
 ],
 "metadata": {
  "kernelspec": {
   "display_name": "Python 3",
   "language": "python",
   "name": "python3"
  },
  "language_info": {
   "codemirror_mode": {
    "name": "ipython",
    "version": 3
   },
   "file_extension": ".py",
   "mimetype": "text/x-python",
   "name": "python",
   "nbconvert_exporter": "python",
   "pygments_lexer": "ipython3",
   "version": "3.6.3"
  }
 },
 "nbformat": 4,
 "nbformat_minor": 2
}
